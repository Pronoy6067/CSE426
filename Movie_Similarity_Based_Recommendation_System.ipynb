{
  "nbformat": 4,
  "nbformat_minor": 0,
  "metadata": {
    "colab": {
      "provenance": []
    },
    "kernelspec": {
      "name": "python3",
      "display_name": "Python 3"
    },
    "language_info": {
      "name": "python"
    }
  },
  "cells": [
    {
      "cell_type": "code",
      "execution_count": null,
      "metadata": {
        "colab": {
          "base_uri": "https://localhost:8080/"
        },
        "id": "ZBTXfbGkTNTI",
        "outputId": "df4ad411-fa91-4589-921f-126590b69a75"
      },
      "outputs": [
        {
          "output_type": "stream",
          "name": "stdout",
          "text": [
            "Drive already mounted at /content/drive; to attempt to forcibly remount, call drive.mount(\"/content/drive\", force_remount=True).\n"
          ]
        },
        {
          "output_type": "stream",
          "name": "stderr",
          "text": [
            "<ipython-input-1-22acf495f6f6>:17: PerformanceWarning: The following operation may generate 16966441536 cells in the resulting pandas object.\n",
            "  movie_matrix = ratings.pivot(index='userId', columns='movieId', values='rating')\n"
          ]
        }
      ],
      "source": [
        "\n",
        "from google.colab import drive\n",
        "drive.mount('/content/drive')\n",
        "\n",
        "import pandas as pd\n",
        "import numpy as np\n",
        "\n",
        "from sklearn.metrics.pairwise import cosine_similarity\n",
        "\n",
        "def load_data():\n",
        "    # Load the datasets (Modify paths if needed)\n",
        "    movies = pd.read_csv('/content/drive/MyDrive/Data Mining/movies.csv')\n",
        "    ratings = pd.read_csv('/content/drive/MyDrive/Data Mining/ratings.csv')\n",
        "\n",
        "    return movies, ratings\n",
        "\n",
        "def create_movie_matrix(ratings):\n",
        "    movie_matrix = ratings.pivot(index='userId', columns='movieId', values='rating')\n",
        "    return movie_matrix\n",
        "\n",
        "def compute_similarity(movie_matrix):\n",
        "    similarity_matrix = cosine_similarity(movie_matrix.fillna(0).T)\n",
        "    return pd.DataFrame(similarity_matrix, index=movie_matrix.columns, columns=movie_matrix.columns)\n",
        "\n",
        "def get_similar_movies(movie_id, similarity_matrix, movies, top_n=5):\n",
        "    if movie_id not in similarity_matrix:\n",
        "        return []\n",
        "    similar_scores = similarity_matrix[movie_id].sort_values(ascending=False)[1:top_n+1]\n",
        "    return movies[movies['movieId'].isin(similar_scores.index)]\n",
        "\n",
        "def get_personalized_recommendations(user_id, ratings, similarity_matrix, movies, top_n=5):\n",
        "    user_ratings = ratings[ratings['userId'] == user_id]\n",
        "    top_movies = user_ratings.nlargest(3, 'rating')['movieId']\n",
        "\n",
        "    unseen_movies = set(movies['movieId']) - set(user_ratings['movieId'])\n",
        "\n",
        "    recommendations = {}\n",
        "    for movie in top_movies:\n",
        "        if movie in similarity_matrix:\n",
        "            similar_movies = similarity_matrix[movie].dropna().sort_values(ascending=False)\n",
        "            for sim_movie, score in similar_movies.items():\n",
        "                if sim_movie in unseen_movies:\n",
        "                    recommendations[sim_movie] = recommendations.get(sim_movie, 0) + score\n",
        "\n",
        "    best_recommendations = sorted(recommendations, key=recommendations.get, reverse=True)[:top_n]\n",
        "    return movies[movies['movieId'].isin(best_recommendations)]\n",
        "\n",
        "if __name__ == \"__main__\":\n",
        "    movies, ratings = load_data()\n",
        "    movie_matrix = create_movie_matrix(ratings)\n",
        "    similarity_matrix = compute_similarity(movie_matrix)\n",
        "\n",
        "    movie_id = 1  # Example movie ID\n",
        "    print(\"Movies similar to the given movie:\")\n",
        "    print(get_similar_movies(movie_id, similarity_matrix, movies))\n",
        "\n",
        "    user_id = 1  # Example user ID\n",
        "    print(\"Personalized recommendations for the user:\")\n",
        "    print(get_personalized_recommendations(user_id, ratings, similarity_matrix, movies))\n"
      ]
    }
  ]
}